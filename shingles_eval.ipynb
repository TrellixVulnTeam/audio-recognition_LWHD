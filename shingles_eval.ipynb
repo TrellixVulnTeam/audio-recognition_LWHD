{
 "cells": [
  {
   "cell_type": "code",
   "execution_count": 16,
   "id": "fbca3e0e",
   "metadata": {},
   "outputs": [],
   "source": [
    "import utils\n",
    "from sklearn.model_selection import train_test_split\n",
    "import lsh_random_projection as LSH\n",
    "import pickle\n",
    "import pandas as pd\n",
    "import numpy as np\n",
    "from sklearn.metrics.pairwise import pairwise_distances\n",
    "import matplotlib\n",
    "import matplotlib.pyplot as plt\n",
    "%matplotlib inline\n",
    "\n",
    "import lsh_random_projection as LSH"
   ]
  },
  {
   "cell_type": "code",
   "execution_count": 36,
   "id": "ebb7c1f7",
   "metadata": {},
   "outputs": [
    {
     "name": "stdout",
     "output_type": "stream",
     "text": [
      "(43, 402)\n"
     ]
    }
   ],
   "source": [
    "features = utils.load(\"data/fma_metadata/features.csv\")\n",
    "tracks = utils.load('data/fma_metadata/tracks.csv')\n",
    "\n",
    "non_nulls_tracks = tracks[tracks['track']['genre_top'].notnull()]\n",
    "\n",
    "# get_csv_shingles(non_null_tracks)\n",
    "shingles = pd.read_csv(\"data/precomputed_test.csv\")\n",
    "\n",
    "print(shingles.shape)\n",
    "\n",
    "# shingles of tracks \n"
   ]
  },
  {
   "cell_type": "code",
   "execution_count": 47,
   "id": "3d65ab52",
   "metadata": {},
   "outputs": [
    {
     "name": "stdout",
     "output_type": "stream",
     "text": [
      "          1         2         3         4         5         6         7  \\\n",
      "0  0.000000  0.000000  0.000000  0.000000  0.000000  0.000000  0.000000   \n",
      "1  0.124742 -0.064303  0.026852 -0.003662 -0.016617 -0.016744  0.011169   \n",
      "2  0.142405 -0.008547  0.077195 -0.020279  0.041505 -0.005996  0.016640   \n",
      "3  0.161209 -0.034288  0.043899 -0.034646  0.054413 -0.005196  0.025885   \n",
      "4  0.158108 -0.042470  0.038175 -0.022871  0.019277 -0.014359  0.020958   \n",
      "\n",
      "          8         9        10  ...       390       391       392       393  \\\n",
      "0  0.000000  0.000000  0.000000  ... -0.011996 -0.002831 -0.022849 -0.006014   \n",
      "1 -0.007210 -0.007857 -0.011689  ... -0.002090  0.008072 -0.009721 -0.002658   \n",
      "2 -0.010533  0.023732 -0.000370  ... -0.009607  0.006803 -0.020646  0.003781   \n",
      "3 -0.005466  0.013495 -0.002832  ... -0.020377 -0.009186 -0.009159  0.015765   \n",
      "4 -0.000424  0.010656 -0.006868  ...  0.002256 -0.008715  0.003010  0.012501   \n",
      "\n",
      "        394       395       396       397       398       399  \n",
      "0  0.004028 -0.003083  0.008083 -0.009823 -0.002446 -0.001138  \n",
      "1 -0.003661  0.005686  0.000487 -0.003070  0.002839  0.009020  \n",
      "2  0.013420  0.001099  0.005225 -0.009879 -0.001624 -0.008975  \n",
      "3  0.020479  0.004441  0.017699 -0.006096  0.003796 -0.002676  \n",
      "4  0.011890  0.017038  0.009179 -0.010514  0.007171 -0.007431  \n",
      "\n",
      "[5 rows x 399 columns]\n"
     ]
    }
   ],
   "source": [
    "# X = shingles[shingles['track_ID'].isin(non_nulls_tracks.index)]\n",
    "# print(shingles.head())\n",
    "\n",
    "# print(shingles['MFCC'].head())\n",
    "\n",
    "\n",
    "# print(shingles['MFCC'].head()) list(df.loc[:,'A':'C']) + ['E'] + list(df.loc[:,'G':'I']) ]\n",
    "\n",
    "mfcc = list(shingles.loc[:, '1': '399'])\n",
    "\n",
    "print(shingles[mfccs].head())"
   ]
  },
  {
   "cell_type": "code",
   "execution_count": 43,
   "id": "784c310d",
   "metadata": {},
   "outputs": [
    {
     "name": "stdout",
     "output_type": "stream",
     "text": [
      "43\n",
      "0\n"
     ]
    }
   ],
   "source": [
    "dataset_IDs, query_IDs = train_test_split(non_nulls_tracks, test_size=10)\n",
    "\n",
    "# shingles of dataset and queries\n",
    "dataset = X[X['track_ID'].isin(dataset_IDs.index)]\n",
    "queries = X[X['track_ID'].isin(query_IDs.index)]\n",
    "\n",
    "print(len(dataset))\n",
    "print(len(queries))\n"
   ]
  },
  {
   "cell_type": "code",
   "execution_count": 12,
   "id": "4f8947af",
   "metadata": {},
   "outputs": [],
   "source": [
    "# X_train, X_test = train_test_split(non_null_features, test_size=2)\n",
    "lsh = LSH.LSH(40, 15, 140)\n",
    "\n",
    "\n",
    "\n",
    "    \n",
    "    \n",
    "    \n",
    "    "
   ]
  },
  {
   "cell_type": "code",
   "execution_count": 48,
   "id": "2a484f0c",
   "metadata": {},
   "outputs": [
    {
     "ename": "ValueError",
     "evalue": "Dot product shape mismatch, (43, 399) vs (140, 15)",
     "output_type": "error",
     "traceback": [
      "\u001b[0;31m---------------------------------------------------------------------------\u001b[0m",
      "\u001b[0;31mValueError\u001b[0m                                Traceback (most recent call last)",
      "\u001b[0;32m<ipython-input-48-c421ee0b29cb>\u001b[0m in \u001b[0;36m<module>\u001b[0;34m\u001b[0m\n\u001b[0;32m----> 1\u001b[0;31m \u001b[0mlsh\u001b[0m\u001b[0;34m.\u001b[0m\u001b[0madd\u001b[0m\u001b[0;34m(\u001b[0m\u001b[0mdataset\u001b[0m\u001b[0;34m[\u001b[0m\u001b[0mmfcc\u001b[0m\u001b[0;34m]\u001b[0m\u001b[0;34m)\u001b[0m\u001b[0;34m\u001b[0m\u001b[0;34m\u001b[0m\u001b[0m\n\u001b[0m",
      "\u001b[0;32m~/Documents/Uni/cs310/code/fma/lsh_random_projection.py\u001b[0m in \u001b[0;36madd\u001b[0;34m(self, inp_vec, bitflip)\u001b[0m\n\u001b[1;32m     58\u001b[0m     \u001b[0;32mdef\u001b[0m \u001b[0madd\u001b[0m\u001b[0;34m(\u001b[0m\u001b[0mself\u001b[0m\u001b[0;34m,\u001b[0m \u001b[0minp_vec\u001b[0m\u001b[0;34m,\u001b[0m \u001b[0mbitflip\u001b[0m\u001b[0;34m=\u001b[0m\u001b[0;32mFalse\u001b[0m\u001b[0;34m)\u001b[0m\u001b[0;34m:\u001b[0m\u001b[0;34m\u001b[0m\u001b[0;34m\u001b[0m\u001b[0m\n\u001b[1;32m     59\u001b[0m         \u001b[0;32mfor\u001b[0m \u001b[0mtable\u001b[0m \u001b[0;32min\u001b[0m \u001b[0mself\u001b[0m\u001b[0;34m.\u001b[0m\u001b[0mhash_tables\u001b[0m\u001b[0;34m:\u001b[0m\u001b[0;34m\u001b[0m\u001b[0;34m\u001b[0m\u001b[0m\n\u001b[0;32m---> 60\u001b[0;31m             \u001b[0mtable\u001b[0m\u001b[0;34m.\u001b[0m\u001b[0madd\u001b[0m\u001b[0;34m(\u001b[0m\u001b[0minp_vec\u001b[0m\u001b[0;34m,\u001b[0m \u001b[0mbitflip\u001b[0m\u001b[0;34m)\u001b[0m\u001b[0;34m\u001b[0m\u001b[0;34m\u001b[0m\u001b[0m\n\u001b[0m\u001b[1;32m     61\u001b[0m \u001b[0;34m\u001b[0m\u001b[0m\n\u001b[1;32m     62\u001b[0m             \u001b[0mval\u001b[0m \u001b[0;34m=\u001b[0m \u001b[0mresource\u001b[0m\u001b[0;34m.\u001b[0m\u001b[0mgetrusage\u001b[0m\u001b[0;34m(\u001b[0m\u001b[0mresource\u001b[0m\u001b[0;34m.\u001b[0m\u001b[0mRUSAGE_SELF\u001b[0m\u001b[0;34m)\u001b[0m\u001b[0;34m.\u001b[0m\u001b[0mru_maxrss\u001b[0m\u001b[0;34m\u001b[0m\u001b[0;34m\u001b[0m\u001b[0m\n",
      "\u001b[0;32m~/Documents/Uni/cs310/code/fma/lsh_random_projection.py\u001b[0m in \u001b[0;36madd\u001b[0;34m(self, inp_vec, bitflip)\u001b[0m\n\u001b[1;32m    177\u001b[0m     \u001b[0;32mdef\u001b[0m \u001b[0madd\u001b[0m\u001b[0;34m(\u001b[0m\u001b[0mself\u001b[0m\u001b[0;34m,\u001b[0m \u001b[0minp_vec\u001b[0m\u001b[0;34m,\u001b[0m \u001b[0mbitflip\u001b[0m\u001b[0;34m=\u001b[0m\u001b[0;32mFalse\u001b[0m\u001b[0;34m)\u001b[0m\u001b[0;34m:\u001b[0m\u001b[0;34m\u001b[0m\u001b[0;34m\u001b[0m\u001b[0m\n\u001b[1;32m    178\u001b[0m \u001b[0;34m\u001b[0m\u001b[0m\n\u001b[0;32m--> 179\u001b[0;31m         \u001b[0mkeys\u001b[0m \u001b[0;34m=\u001b[0m \u001b[0mself\u001b[0m\u001b[0;34m.\u001b[0m\u001b[0mget_exact_keys\u001b[0m\u001b[0;34m(\u001b[0m\u001b[0minp_vec\u001b[0m\u001b[0;34m)\u001b[0m\u001b[0;34m\u001b[0m\u001b[0;34m\u001b[0m\u001b[0m\n\u001b[0m\u001b[1;32m    180\u001b[0m \u001b[0;34m\u001b[0m\u001b[0m\n\u001b[1;32m    181\u001b[0m         \u001b[0;32mif\u001b[0m \u001b[0mbitflip\u001b[0m\u001b[0;34m:\u001b[0m\u001b[0;34m\u001b[0m\u001b[0;34m\u001b[0m\u001b[0m\n",
      "\u001b[0;32m~/Documents/Uni/cs310/code/fma/lsh_random_projection.py\u001b[0m in \u001b[0;36mget_exact_keys\u001b[0;34m(self, inp_vec)\u001b[0m\n\u001b[1;32m    232\u001b[0m     \u001b[0;32mdef\u001b[0m \u001b[0mget_exact_keys\u001b[0m\u001b[0;34m(\u001b[0m\u001b[0mself\u001b[0m\u001b[0;34m,\u001b[0m \u001b[0minp_vec\u001b[0m\u001b[0;34m)\u001b[0m\u001b[0;34m:\u001b[0m\u001b[0;34m\u001b[0m\u001b[0;34m\u001b[0m\u001b[0m\n\u001b[1;32m    233\u001b[0m \u001b[0;34m\u001b[0m\u001b[0m\n\u001b[0;32m--> 234\u001b[0;31m         \u001b[0mbin_bits\u001b[0m \u001b[0;34m=\u001b[0m \u001b[0minp_vec\u001b[0m\u001b[0;34m.\u001b[0m\u001b[0mdot\u001b[0m\u001b[0;34m(\u001b[0m\u001b[0mself\u001b[0m\u001b[0;34m.\u001b[0m\u001b[0mprojections\u001b[0m\u001b[0;34m)\u001b[0m \u001b[0;34m>=\u001b[0m \u001b[0;36m0\u001b[0m\u001b[0;34m\u001b[0m\u001b[0;34m\u001b[0m\u001b[0m\n\u001b[0m\u001b[1;32m    235\u001b[0m \u001b[0;34m\u001b[0m\u001b[0m\n\u001b[1;32m    236\u001b[0m         \u001b[0;31m# TODO make a dict for each input vecotr\u001b[0m\u001b[0;34m\u001b[0m\u001b[0;34m\u001b[0m\u001b[0;34m\u001b[0m\u001b[0m\n",
      "\u001b[0;32m~/.pyenv/versions/3.7.4/envs/tkinter/lib/python3.7/site-packages/pandas/core/frame.py\u001b[0m in \u001b[0;36mdot\u001b[0;34m(self, other)\u001b[0m\n\u001b[1;32m   1089\u001b[0m                 raise ValueError(\n\u001b[1;32m   1090\u001b[0m                     \u001b[0;34m\"Dot product shape mismatch, \"\u001b[0m\u001b[0;34m\u001b[0m\u001b[0;34m\u001b[0m\u001b[0m\n\u001b[0;32m-> 1091\u001b[0;31m                     \u001b[0;34m\"{s} vs {r}\"\u001b[0m\u001b[0;34m.\u001b[0m\u001b[0mformat\u001b[0m\u001b[0;34m(\u001b[0m\u001b[0ms\u001b[0m\u001b[0;34m=\u001b[0m\u001b[0mlvals\u001b[0m\u001b[0;34m.\u001b[0m\u001b[0mshape\u001b[0m\u001b[0;34m,\u001b[0m \u001b[0mr\u001b[0m\u001b[0;34m=\u001b[0m\u001b[0mrvals\u001b[0m\u001b[0;34m.\u001b[0m\u001b[0mshape\u001b[0m\u001b[0;34m)\u001b[0m\u001b[0;34m\u001b[0m\u001b[0;34m\u001b[0m\u001b[0m\n\u001b[0m\u001b[1;32m   1092\u001b[0m                 )\n\u001b[1;32m   1093\u001b[0m \u001b[0;34m\u001b[0m\u001b[0m\n",
      "\u001b[0;31mValueError\u001b[0m: Dot product shape mismatch, (43, 399) vs (140, 15)"
     ]
    }
   ],
   "source": [
    "\n",
    "lsh.add(dataset[mfcc])"
   ]
  },
  {
   "cell_type": "code",
   "execution_count": null,
   "id": "76d1c80b",
   "metadata": {},
   "outputs": [],
   "source": []
  },
  {
   "cell_type": "code",
   "execution_count": null,
   "id": "c86af789",
   "metadata": {},
   "outputs": [],
   "source": [
    "\n",
    "\n",
    "print(dataset.head)\n",
    "\n",
    "\n"
   ]
  },
  {
   "cell_type": "code",
   "execution_count": null,
   "id": "19ac34b2",
   "metadata": {},
   "outputs": [],
   "source": [
    "# build_model()"
   ]
  },
  {
   "cell_type": "code",
   "execution_count": null,
   "id": "70e00f21",
   "metadata": {},
   "outputs": [],
   "source": [
    "def add_tracks(dataset):\n",
    "    \n",
    "    lsh.add(shingles['mfcc'])\n",
    "    "
   ]
  },
  {
   "cell_type": "code",
   "execution_count": null,
   "id": "17ed2653",
   "metadata": {},
   "outputs": [],
   "source": [
    "def get_candidate_sets(queries):\n",
    "    \n",
    "    candidate_sets = {}\n",
    "    \n",
    "    for query in queries:\n",
    "    \n",
    "        shingles = get_shingles(query)\n",
    "        \n",
    "        cand_set = lsh.get(shingles['mfcc'])\n",
    "        \n",
    "        candidate_sets[query.trackID] = cand_set\n",
    "        \n",
    "    return candidate_sets\n",
    "        "
   ]
  },
  {
   "cell_type": "code",
   "execution_count": null,
   "id": "577e504a",
   "metadata": {},
   "outputs": [],
   "source": [
    "def eval_genre(queries):\n",
    "    \n",
    "    ys = queries['genre_top']\n",
    "    \n",
    "    Ys = get_candidate_set(queries)\n",
    "    \n",
    "    \n",
    "    for y, Y in zip(ys, Ys):\n",
    "        \n",
    "#        evaluate\n",
    "\n",
    "        \n",
    "    return avg_metric\n",
    "        \n",
    "        "
   ]
  },
  {
   "cell_type": "code",
   "execution_count": null,
   "id": "ec28447b",
   "metadata": {},
   "outputs": [],
   "source": [
    "candidate_sets = lsh.get(X_test['mfcc'])\n",
    "eval_genre(X_test['mfcc'], candidate_sets)\n",
    "\n",
    "\n",
    "\n",
    "\n",
    "\n"
   ]
  }
 ],
 "metadata": {
  "kernelspec": {
   "display_name": "Python 3",
   "language": "python",
   "name": "python3"
  },
  "language_info": {
   "codemirror_mode": {
    "name": "ipython",
    "version": 3
   },
   "file_extension": ".py",
   "mimetype": "text/x-python",
   "name": "python",
   "nbconvert_exporter": "python",
   "pygments_lexer": "ipython3",
   "version": "3.7.4"
  }
 },
 "nbformat": 4,
 "nbformat_minor": 5
}
