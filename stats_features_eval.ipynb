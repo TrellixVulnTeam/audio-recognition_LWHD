{
 "cells": [
  {
   "cell_type": "code",
   "execution_count": 2,
   "id": "83b51ecb",
   "metadata": {},
   "outputs": [],
   "source": [
    "import utils\n",
    "from sklearn.model_selection import train_test_split\n",
    "import lsh_random_projection as LSH\n",
    "import pickle\n",
    "import pandas as pd\n",
    "import numpy as np\n",
    "from sklearn.metrics.pairwise import pairwise_distances\n",
    "import matplotlib\n",
    "import matplotlib.pyplot as plt\n",
    "%matplotlib inline\n",
    "\n",
    "import lsh_random_projection as LSH"
   ]
  },
  {
   "cell_type": "code",
   "execution_count": 10,
   "id": "838ed063",
   "metadata": {},
   "outputs": [
    {
     "name": "stdout",
     "output_type": "stream",
     "text": [
      "            album                                                          \\\n",
      "         comments        date_created date_released engineer favorites id   \n",
      "track_id                                                                    \n",
      "2               0 2008-11-26 01:44:45    2009-01-05      NaN         4  1   \n",
      "3               0 2008-11-26 01:44:45    2009-01-05      NaN         4  1   \n",
      "5               0 2008-11-26 01:44:45    2009-01-05      NaN         4  1   \n",
      "10              0 2008-11-26 01:45:08    2008-02-06      NaN         4  6   \n",
      "134             0 2008-11-26 01:44:45    2009-01-05      NaN         4  1   \n",
      "\n",
      "                                            ...       track           \\\n",
      "         information listens producer tags  ... information interest   \n",
      "track_id                                    ...                        \n",
      "2            <p></p>    6073      NaN   []  ...         NaN     4656   \n",
      "3            <p></p>    6073      NaN   []  ...         NaN     1470   \n",
      "5            <p></p>    6073      NaN   []  ...         NaN     1933   \n",
      "10               NaN   47632      NaN   []  ...         NaN    54881   \n",
      "134          <p></p>    6073      NaN   []  ...         NaN     1126   \n",
      "\n",
      "                                                                           \\\n",
      "         language_code                                            license   \n",
      "track_id                                                                    \n",
      "2                   en  Attribution-NonCommercial-ShareAlike 3.0 Inter...   \n",
      "3                   en  Attribution-NonCommercial-ShareAlike 3.0 Inter...   \n",
      "5                   en  Attribution-NonCommercial-ShareAlike 3.0 Inter...   \n",
      "10                  en  Attribution-NonCommercial-NoDerivatives (aka M...   \n",
      "134                 en  Attribution-NonCommercial-ShareAlike 3.0 Inter...   \n",
      "\n",
      "                                                               \n",
      "         listens lyricist number publisher tags         title  \n",
      "track_id                                                       \n",
      "2           1293      NaN      3       NaN   []          Food  \n",
      "3            514      NaN      4       NaN   []  Electric Ave  \n",
      "5           1151      NaN      6       NaN   []    This World  \n",
      "10         50135      NaN      1       NaN   []       Freeway  \n",
      "134          943      NaN      5       NaN   []  Street Music  \n",
      "\n",
      "[5 rows x 52 columns]\n"
     ]
    }
   ],
   "source": [
    "features = utils.load(\"data/fma_metadata/features.csv\")\n",
    "tracks = utils.load('data/fma_metadata/tracks.csv')\n",
    "\n",
    "non_nulls_tracks = tracks[tracks['track']['genre_top'].notnull()]\n",
    "\n",
    "print(non_nulls_tracks.head())\n",
    "\n",
    "non_null_features = features.loc[non_nulls_tracks.index]"
   ]
  },
  {
   "cell_type": "code",
   "execution_count": 4,
   "id": "2d037805",
   "metadata": {},
   "outputs": [],
   "source": [
    "def build_model():\n",
    "\n",
    "\n",
    "\n",
    "    X_train, X_test = train_test_split(non_null_features, test_size=1)\n",
    "    lsh = LSH.LSH(1, 15, 140)\n",
    "    lsh.add(X_train['mfcc'])\n",
    "    \n",
    "    obj = [lsh, X_train, X_test]\n",
    "\n",
    "    save_object(obj, 'lsh.pkl')\n",
    "    \n",
    "def save_object(obj, filename):\n",
    "    with open(filename, 'wb') as output:  # Overwrites any existing file.\n",
    "        pickle.dump(obj, output, pickle.HIGHEST_PROTOCOL)\n"
   ]
  },
  {
   "cell_type": "code",
   "execution_count": 5,
   "id": "ba4316ca",
   "metadata": {},
   "outputs": [],
   "source": [
    "# build_model()"
   ]
  },
  {
   "cell_type": "code",
   "execution_count": 6,
   "id": "644eb2c4",
   "metadata": {},
   "outputs": [
    {
     "name": "stdout",
     "output_type": "stream",
     "text": [
      "[        id          genre    distance\n",
      "0    42447           Rock   97.966413\n",
      "1    55448           Rock   98.489520\n",
      "2    19413            Pop   98.734143\n",
      "3    42472           Folk   99.899773\n",
      "4    51313           Rock  100.119456\n",
      "5    17595           Rock  100.605594\n",
      "6    13596           Rock  101.146360\n",
      "7   148158           Rock  101.902463\n",
      "8    14413           Rock  102.990867\n",
      "9   153208           Rock  103.754013\n",
      "10    4076  International  103.943591\n",
      "11   53974           Rock  104.486630\n",
      "12  130013           Rock  105.078652\n",
      "13   63194           Rock  105.330504\n",
      "14   30156           Rock  105.484676\n",
      "15   51317           Rock  105.530776\n",
      "16   42466           Folk  105.894419\n",
      "17   42464           Folk  105.994585\n",
      "18   90301            Pop  106.649340\n",
      "19  155300           Folk  106.659321]\n"
     ]
    }
   ],
   "source": [
    "with open('lsh.pkl', 'rb') as input:\n",
    "    obj = pickle.load(input)\n",
    "    # lsh.get()\n",
    "    lsh = obj[0]\n",
    "    X_train = obj[1]\n",
    "    X_test = obj[2]\n",
    "        \n",
    "    results = lsh.get(X_test['mfcc'], probeType=\"rand_proj\")\n",
    "    print(results)\n",
    "\n",
    "\n",
    "# print(X_test['mfcc'].head())\n",
    "\n",
    "# res = lsh.get(X_test['mfcc'], probeType=\"rand_proj\")\n"
   ]
  },
  {
   "cell_type": "markdown",
   "id": "ab64f970",
   "metadata": {},
   "source": [
    "Evaluation of accuracy with varying key-size"
   ]
  },
  {
   "cell_type": "code",
   "execution_count": 7,
   "id": "ebf97cf3",
   "metadata": {},
   "outputs": [
    {
     "name": "stdout",
     "output_type": "stream",
     "text": [
      "140\n"
     ]
    }
   ],
   "source": [
    "print(X_train['mfcc'].shape[1])"
   ]
  },
  {
   "cell_type": "code",
   "execution_count": 8,
   "id": "4d444fee",
   "metadata": {},
   "outputs": [],
   "source": [
    "# get LSH structures, which vary by hash_key\n",
    "def get_lshs_vary_hash_size():\n",
    "\n",
    "    tables = []\n",
    "    genre_acc = []\n",
    "    recall_acc = []\n",
    "    \n",
    "    table_size = 40\n",
    "    features_size =  X_train['mfcc'].shape[1]\n",
    "    \n",
    "    lsh_objs = []\n",
    "    queries_list = []\n",
    "    \n",
    " \n",
    "        \n",
    "    lsh = LSH.LSH(table_size, 1, features_size)   \n",
    "    dataset, queries = train_test_split(non_null_features, test_size=100)\n",
    "    lsh.add(dataset['mfcc'])    \n",
    "    lsh_objs.append(lsh)\n",
    "    queries_list.append(queries['mfcc'])\n",
    "    \n",
    "    for i in range(1, 20):\n",
    "\n",
    "        lsh = LSH.LSH(table_size, i * 5, features_size)\n",
    "\n",
    "        dataset, queries = train_test_split(non_null_features, test_size=100)\n",
    "        lsh.add(dataset['mfcc'])    \n",
    "        lsh_objs.append(lsh)\n",
    "        queries_list.append(queries['mfcc'])\n",
    "        \n",
    "    return lsh_objs, queries_list"
   ]
  },
  {
   "cell_type": "code",
   "execution_count": 9,
   "id": "71e23f05",
   "metadata": {},
   "outputs": [],
   "source": [
    "def bruteforce_get(features, inp_vec, k=20):\n",
    "\n",
    "    query_top_ks = [None for i in range(len(inp_vec))]\n",
    "\n",
    "    for idx in range(len(inp_vec)):\n",
    "\n",
    "        distance = pairwise_distances(\n",
    "            features, inp_vec.iloc[idx].values.reshape(1, -1), metric='euclidean').flatten()\n",
    "\n",
    "        nearest_neighbours = pd.DataFrame({'id': features.index, 'genre': tracks['track']['genre_top'].loc[features.index], 'distance': distance}).sort_values(\n",
    "            'distance').reset_index(drop=True)\n",
    "\n",
    "        # print(\"nearest negih\")\n",
    "        # print(nearest_neighbours.head())\n",
    "\n",
    "        candidate_set_labels = nearest_neighbours.sort_values(\n",
    "            by=['distance'], ascending=True)\n",
    "\n",
    "        non_null = candidate_set_labels[candidate_set_labels['genre'].notnull(\n",
    "        )]\n",
    "\n",
    "        query_top_ks[idx] = non_null.iloc[:k]\n",
    "\n",
    "    return query_top_ks"
   ]
  },
  {
   "cell_type": "code",
   "execution_count": 10,
   "id": "bd95ef4e",
   "metadata": {},
   "outputs": [],
   "source": [
    "# \n",
    "def get_recall_accuracy(lsh_list, queries_list, type=\"hash_size\"):\n",
    "    \n",
    "    results = []\n",
    "#     hash_sizes = []\n",
    "    dependent_var = []\n",
    "    \n",
    "    for lsh, queries in zip(lsh_list, queries_list):\n",
    "        \n",
    "\n",
    "        top_ks = lsh.get(queries)\n",
    "        brute_force_top_ks = bruteforce_get(non_null_features['mfcc'], queries)\n",
    "        \n",
    "        recall_sum = 0\n",
    "        count = len(top_ks)\n",
    "        \n",
    "        for top_k, brute_force in zip(top_ks, brute_force_top_ks):\n",
    "            \n",
    "            recall = get_recall(brute_force['id'], top_k['id'])\n",
    "            \n",
    "            recall_sum += recall\n",
    "            \n",
    "        avg = recall_sum / count\n",
    "        \n",
    "        results.append(avg)\n",
    "      \n",
    "        if type == \"hash_size\":\n",
    "            dependent_var.append(lsh.hash_size)   \n",
    "        else:\n",
    "            dependent_var.append(lsh.num_tables)\n",
    "#     print(results)\n",
    "\n",
    "    plt.plot(results, dependent_var,\n",
    "         color='blue', marker='x', label=\"rand-proj\")\n",
    "    plt.grid(True)\n",
    "    plt.legend(loc=\"upper right\")\n",
    "    print(\"tables \", dependent_var)\n",
    "    print(\"results\", results)\n",
    "    plt.show()\n",
    "\n",
    "    \n",
    "            \n",
    "def get_recall(ys, Ys):\n",
    "\n",
    "    k = len(ys)\n",
    "    if k == 0:\n",
    "        return 0\n",
    "\n",
    "    count = 0\n",
    "    for Y in Ys:\n",
    "        if (ys == Y).any():\n",
    "\n",
    "            # print(\"FOUND \", Y)\n",
    "            count = count + 1\n",
    "\n",
    "    return count / k"
   ]
  },
  {
   "cell_type": "code",
   "execution_count": 17,
   "id": "1baaa338",
   "metadata": {},
   "outputs": [
    {
     "name": "stdout",
     "output_type": "stream",
     "text": [
      "tables  [1, 5, 10, 15, 20, 25, 30, 35, 40, 45, 50, 55, 60, 65, 70, 75, 80, 85, 90, 95]\n",
      "results [0.9420000000000016, 0.9470000000000017, 0.8050000000000003, 0.4725000000000001, 0.06299999999999996, 0.025, 0.0015000000000000002, 0.002, 0.0, 0.0, 0.0015000000000000002, 0.0, 0.0, 0.0, 0.0, 0.0, 0.0, 0.0, 0.0, 0.0]\n"
     ]
    },
    {
     "data": {
      "image/png": "[encoded data removed]",
      "text/plain": [
       "<Figure size 432x288 with 1 Axes>"
      ]
     },
     "metadata": {
      "needs_background": "light"
     },
     "output_type": "display_data"
    }
   ],
   "source": [
    "# lsh_list, query_list = get_lshs_vary_hash_size()\n",
    "# print(len(a), len(b))\n",
    "# for obj in lsh_list:\n",
    "#     print(obj.hash_size)\n",
    "get_recall_accuracy(lsh_list, query_list, \"hash_size\")"
   ]
  },
  {
   "cell_type": "code",
   "execution_count": 12,
   "id": "a3d7e136",
   "metadata": {},
   "outputs": [],
   "source": [
    "def get_lshs_vary_num_tables():\n",
    "    \n",
    "    hash_size = 15\n",
    "    features_size =  X_train['mfcc'].shape[1]\n",
    "    \n",
    "    lsh_objs = []\n",
    "    queries_list = []\n",
    "    \n",
    " \n",
    "        \n",
    "    lsh = LSH.LSH(1, hash_size, features_size)   \n",
    "    dataset, queries = train_test_split(non_null_features, test_size=100)\n",
    "    lsh.add(dataset['mfcc'])    \n",
    "    lsh_objs.append(lsh)\n",
    "    queries_list.append(queries['mfcc'])\n",
    "    \n",
    "    for i in range(1, 20):\n",
    "\n",
    "        lsh = LSH.LSH(i * 2, hash_size, features_size)\n",
    "\n",
    "        dataset, queries = train_test_split(non_null_features, test_size=100)\n",
    "        lsh.add(dataset['mfcc'])    \n",
    "        lsh_objs.append(lsh)\n",
    "        queries_list.append(queries['mfcc'])\n",
    "        \n",
    "    return lsh_objs, queries_list"
   ]
  },
  {
   "cell_type": "code",
   "execution_count": 13,
   "id": "8ca7283f",
   "metadata": {},
   "outputs": [
    {
     "ename": "NameError",
     "evalue": "name 'lsb_obj' is not defined",
     "output_type": "error",
     "traceback": [
      "\u001b[0;31m---------------------------------------------------------------------------\u001b[0m",
      "\u001b[0;31mNameError\u001b[0m                                 Traceback (most recent call last)",
      "\u001b[0;32m<ipython-input-13-414d1edb3a04>\u001b[0m in \u001b[0;36m<module>\u001b[0;34m\u001b[0m\n\u001b[1;32m      1\u001b[0m \u001b[0mlsh_obj\u001b[0m\u001b[0;34m,\u001b[0m \u001b[0mqueries\u001b[0m \u001b[0;34m=\u001b[0m \u001b[0mget_hashkey_lshs\u001b[0m\u001b[0;34m(\u001b[0m\u001b[0;34m)\u001b[0m\u001b[0;34m\u001b[0m\u001b[0;34m\u001b[0m\u001b[0m\n\u001b[0;32m----> 2\u001b[0;31m \u001b[0mget_recall_accuracy\u001b[0m\u001b[0;34m(\u001b[0m\u001b[0mlsb_obj\u001b[0m\u001b[0;34m,\u001b[0m \u001b[0mqueries\u001b[0m\u001b[0;34m,\u001b[0m \u001b[0;34m\"num_tables\"\u001b[0m\u001b[0;34m)\u001b[0m\u001b[0;34m\u001b[0m\u001b[0;34m\u001b[0m\u001b[0m\n\u001b[0m",
      "\u001b[0;31mNameError\u001b[0m: name 'lsb_obj' is not defined"
     ]
    }
   ],
   "source": [
    "lsh_tables_list, tables_queries_list = get_hashkey_lshs()\n",
    "get_recall_accuracy(lsh_tables_list, tables_queries_list, \"num_tables\")"
   ]
  },
  {
   "cell_type": "code",
   "execution_count": null,
   "id": "376a2d30",
   "metadata": {},
   "outputs": [],
   "source": []
  },
  {
   "cell_type": "code",
   "execution_count": 88,
   "id": "2352e4dc",
   "metadata": {},
   "outputs": [],
   "source": [
    "X_train, X_test = train_test_split(non_null_features, test_size=2)\n",
    "lsh = LSH.LSH(40, 15, 140)\n",
    "lsh.add(X_train['mfcc'])\n",
    "\n",
    "\n"
   ]
  },
  {
   "cell_type": "code",
   "execution_count": 89,
   "id": "341564b1",
   "metadata": {},
   "outputs": [
    {
     "name": "stdout",
     "output_type": "stream",
     "text": [
      "2\n",
      "21\n"
     ]
    }
   ],
   "source": [
    "queries, query_matches = lsh.get(X_test['mfcc'], collision_ratio=0.5)\n",
    "\n",
    "# print(inp_vec)\n",
    "\n",
    "print(len(X_test))\n",
    "print(len(query_matches[0]))"
   ]
  },
  {
   "cell_type": "code",
   "execution_count": 93,
   "id": "58f01b19",
   "metadata": {},
   "outputs": [],
   "source": [
    "\n",
    "# evaluate accuracy of candidate sets vs expected genres for each query\n",
    "def eval_candidates_genre_precision(queries, query_matches):\n",
    "    \n",
    "    \n",
    "   \n",
    "    \n",
    "#     get genre of queries\n",
    "    \n",
    "#     print(tracks.index)\n",
    "    ys = non_nulls_tracks[non_nulls_tracks.index.isin(queries.index)]['track']['genre_top']\n",
    "    \n",
    "    print(\"genres\", ys)\n",
    "    \n",
    "\n",
    "    Ys = []\n",
    "    \n",
    "    for matches in query_matches:\n",
    "        \n",
    "#         get genre of candidate sets for each query\n",
    "        Y = non_nulls_tracks[non_nulls_tracks.index.isin(matches)]['track']['genre_top']\n",
    "        \n",
    "        Ys.append(Y)\n",
    "        \n",
    "    sum = 0\n",
    "        \n",
    "    for y, Y in zip(ys, Ys):\n",
    "        \n",
    "        print(\" total \", len(Y))\n",
    "        \n",
    "        correct_hashes = Y[Y == y]\n",
    "        \n",
    "        print(\"correct hashes\", len(correct_hashes))\n",
    "        \n",
    "        prec = len(correct_hashes) / len(Y)\n",
    "        sum += prec\n",
    "        \n",
    "    precision = sum / len(ys)\n",
    "    return precision\n",
    "\n",
    "    \n",
    "    \n",
    "    \n",
    "        \n",
    "    \n",
    "    \n",
    "    \n",
    "    "
   ]
  },
  {
   "cell_type": "code",
   "execution_count": 94,
   "id": "0b186e96",
   "metadata": {},
   "outputs": [],
   "source": [
    "def eval_candidates_genre_recall(queries, dataset, query_matches):\n",
    "    \n",
    "    \n",
    "   \n",
    "    \n",
    "#     get genre of queries\n",
    "    expected_genres = non_nulls_tracks[non_nulls_tracks.index.isin(queries.index)]['track']['genre_top']\n",
    "    \n",
    "    \n",
    "    dataset_tracks =  non_nulls_tracks[non_nulls_tracks.index.isin(dataset.index)]\n",
    "    \n",
    "\n",
    "    sum = 0\n",
    "    count = 0\n",
    "    for g, candidates in zip(expected_genres, query_matches):\n",
    "        \n",
    "#         get all tracks in dataset with same genre\n",
    "        y = len(dataset_tracks[dataset_tracks['track']['genre_top'] == g])\n",
    "        print(\"expected number\", y)\n",
    "    \n",
    "        \n",
    "#         Y = qu\n",
    "        # get matches with have same genre as g\n",
    "        candidates_genres = dataset_tracks[dataset_tracks.index.isin(candidates)]['track']['genre_top']\n",
    "    \n",
    "        Y = len(candidates_genres[candidates_genres == g])\n",
    "        \n",
    "        print(\"candidates number\", len(candidates_genres))\n",
    "        print(\"found\", Y)\n",
    "        \n",
    "        recall = Y / y\n",
    "        count += 1\n",
    "        \n",
    "    return recall / count\n",
    "        \n",
    "        \n",
    "#     Ys = []\n",
    "    \n",
    "#     for matches in query_matches:\n",
    "#         Y = tracks[tracks.index.isin(matches)]['track']['genre_top']\n",
    "        \n",
    "#         Ys.append(Y)\n",
    "        \n",
    "#     sum = 0\n",
    "        \n",
    "#     for y, Y in zip(ys, Ys):\n",
    "        \n",
    "#         correct_hashes = Y[ Y == y]\n",
    "        \n",
    "#         acc = len(correct_hashes) / len(Y)\n",
    "#         sum += acc\n",
    "        \n",
    "#     total_acc = sum / len(y)\n",
    "#     return total_acc"
   ]
  },
  {
   "cell_type": "code",
   "execution_count": 96,
   "id": "6799efc1",
   "metadata": {},
   "outputs": [
    {
     "name": "stdout",
     "output_type": "stream",
     "text": [
      "genres track_id\n",
      "38890     Experimental\n",
      "150385    Experimental\n",
      "Name: genre_top, dtype: category\n",
      "Categories (16, object): [Blues, Classical, Country, Easy Listening, ..., Pop, Rock, Soul-RnB, Spoken]\n",
      " total  21\n",
      "correct hashes 10\n",
      " total  1874\n",
      "correct hashes 247\n",
      "0.30399705239619856\n"
     ]
    }
   ],
   "source": [
    "print(eval_candidates_genre_precision(queries, query_matches))"
   ]
  },
  {
   "cell_type": "code",
   "execution_count": 97,
   "id": "37e84831",
   "metadata": {
    "scrolled": false
   },
   "outputs": [
    {
     "name": "stdout",
     "output_type": "stream",
     "text": [
      "expected number 10606\n",
      "candidates number 21\n",
      "found 10\n",
      "expected number 10606\n",
      "candidates number 1874\n",
      "found 247\n",
      "0.011644352253441449\n"
     ]
    }
   ],
   "source": [
    "print(eval_candidates_genre_recall(queries, X_train['mfcc'], query_matches))"
   ]
  },
  {
   "cell_type": "code",
   "execution_count": 98,
   "id": "38b29fe8",
   "metadata": {},
   "outputs": [],
   "source": [
    "def eval_candidates_genre_fmeasure(queries, dataset, query_matches, beta=0.5):\n",
    "    \n",
    "    P = eval_candidates_genre_precision(queries, query_matches)\n",
    "    R = eval_candidates_genre_recall(queries, dataset, query_matches)\n",
    "    \n",
    "    f_measure = ((1 + beta) * P * R) / (beta * P + R)\n",
    "    return f_measure\n",
    "  \n",
    "#     Fβ = (1+β)·P ·R \n",
    "\n"
   ]
  },
  {
   "cell_type": "code",
   "execution_count": 99,
   "id": "3c8ba5d1",
   "metadata": {},
   "outputs": [
    {
     "name": "stdout",
     "output_type": "stream",
     "text": [
      "genres track_id\n",
      "38890     Experimental\n",
      "150385    Experimental\n",
      "Name: genre_top, dtype: category\n",
      "Categories (16, object): [Blues, Classical, Country, Easy Listening, ..., Pop, Rock, Soul-RnB, Spoken]\n",
      " total  21\n",
      "correct hashes 10\n",
      " total  1874\n",
      "correct hashes 247\n",
      "expected number 10606\n",
      "candidates number 21\n",
      "found 10\n",
      "expected number 10606\n",
      "candidates number 1874\n",
      "found 247\n",
      "0.03244732183525006\n"
     ]
    }
   ],
   "source": [
    "print(eval_candidates_genre_fmeasure(queries, X_train, query_matches))"
   ]
  },
  {
   "cell_type": "code",
   "execution_count": null,
   "id": "62cc35ea",
   "metadata": {},
   "outputs": [],
   "source": []
  }
 ],
 "metadata": {
  "kernelspec": {
   "display_name": "Python 3",
   "language": "python",
   "name": "python3"
  },
  "language_info": {
   "codemirror_mode": {
    "name": "ipython",
    "version": 3
   },
   "file_extension": ".py",
   "mimetype": "text/x-python",
   "name": "python",
   "nbconvert_exporter": "python",
   "pygments_lexer": "ipython3",
   "version": "3.7.4"
  }
 },
 "nbformat": 4,
 "nbformat_minor": 5
}
